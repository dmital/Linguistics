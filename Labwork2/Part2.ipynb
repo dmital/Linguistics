{
 "cells": [
  {
   "cell_type": "markdown",
   "metadata": {},
   "source": [
    "# Лабораторная работа 2, вторая часть"
   ]
  },
  {
   "cell_type": "markdown",
   "metadata": {},
   "source": [
    "## Португальский и французский языки"
   ]
  },
  {
   "cell_type": "markdown",
   "metadata": {},
   "source": [
    "Во второй части работы исследуются свойства кросс-языкового отображения. "
   ]
  },
  {
   "cell_type": "markdown",
   "metadata": {},
   "source": [
    "Загружаем необходимые библиотеки:"
   ]
  },
  {
   "cell_type": "code",
   "execution_count": 1,
   "metadata": {},
   "outputs": [],
   "source": [
    "import  gensim\n",
    "import  numpy as  np\n",
    "from gensim.models import KeyedVectors\n",
    "import warnings\n",
    "warnings.filterwarnings('ignore')"
   ]
  },
  {
   "cell_type": "markdown",
   "metadata": {},
   "source": [
    "Теперь загружаем векторные представления слов португальского и французского языков:"
   ]
  },
  {
   "cell_type": "code",
   "execution_count": 2,
   "metadata": {},
   "outputs": [],
   "source": [
    "pt_emb = KeyedVectors.load_word2vec_format(\"cc.pt.300.vec\",binary=False, limit = 10000)\n",
    "fr_emb = KeyedVectors.load_word2vec_format(\"cc.fr.300.vec\",binary=False, limit = 10000)"
   ]
  },
  {
   "cell_type": "markdown",
   "metadata": {},
   "source": [
    "### Перевод с португальского на французский:"
   ]
  },
  {
   "cell_type": "markdown",
   "metadata": {},
   "source": [
    "Сначала загрузим пары слов (португальский, французский) из текстовых файлов"
   ]
  },
  {
   "cell_type": "code",
   "execution_count": 3,
   "metadata": {},
   "outputs": [],
   "source": [
    "def load_word_pairs(filename):\n",
    "    pt_fr_pairs = []\n",
    "    fr_vectors = []\n",
    "    pt_vectors = []\n",
    "    \n",
    "    with open(filename, \"r\") as inpf:\n",
    "        for line in inpf:\n",
    "            pt, fr = line.rstrip().split(\"\\t\")\n",
    "            if fr not in fr_emb or pt not in pt_emb:\n",
    "                continue\n",
    "            pt_fr_pairs.append((pt, fr))\n",
    "            fr_vectors.append(fr_emb[fr])\n",
    "            pt_vectors.append(pt_emb[pt])\n",
    "            \n",
    "    return pt_fr_pairs, np.array(pt_vectors), np.array(fr_vectors)"
   ]
  },
  {
   "cell_type": "code",
   "execution_count": 4,
   "metadata": {},
   "outputs": [],
   "source": [
    "pt_fr_train, X_train, Y_train = load_word_pairs(\"pt-fr.0-5000.txt\")"
   ]
  },
  {
   "cell_type": "code",
   "execution_count": 5,
   "metadata": {},
   "outputs": [],
   "source": [
    "pt_fr_test, X_test, Y_test = load_word_pairs(\"pt-fr.5000-6500.txt\")"
   ]
  },
  {
   "cell_type": "code",
   "execution_count": 6,
   "metadata": {},
   "outputs": [],
   "source": [
    "def learn_transform(X, Y):\n",
    "    \"\"\" \n",
    "    :returns: W* : float matrix[emb_dim x emb_dim] as defined in formulae above\n",
    "    \"\"\"\n",
    "    # YOU CODE HERE\n",
    "    U, s, V = np.linalg.svd(np.matmul(X_train.T,Y_train))\n",
    "    W = np.matmul(U,V)\n",
    "    return W"
   ]
  },
  {
   "cell_type": "markdown",
   "metadata": {},
   "source": [
    "Строим матрицы отображений между пространствами векторных репрезентаций:"
   ]
  },
  {
   "cell_type": "code",
   "execution_count": 8,
   "metadata": {},
   "outputs": [],
   "source": [
    "M1 = learn_transform(X_train[:300], Y_train[:300])\n",
    "M2 = learn_transform(X_train[300:601], Y_train[300:601])"
   ]
  },
  {
   "cell_type": "code",
   "execution_count": 9,
   "metadata": {},
   "outputs": [],
   "source": [
    "def precision(pairs, mapped_vectors, topn=1):\n",
    "    assert len(pairs) == len(mapped_vectors)\n",
    "    num_matches = 0\n",
    "    for i, (_, ru) in enumerate(pairs):\n",
    "        # YOUR CODE HERE   \n",
    "        mapped_vector = mapped_vectors[i]\n",
    "        if ru in [x for (x,_) in fr_emb.most_similar([mapped_vector],topn=topn)]:\n",
    "            num_matches += 1\n",
    "    precision_val = num_matches / len(pairs)\n",
    "    return precision_val"
   ]
  },
  {
   "cell_type": "code",
   "execution_count": 10,
   "metadata": {},
   "outputs": [
    {
     "name": "stdout",
     "output_type": "stream",
     "text": [
      "pair1 M1: 0.7066666666666667\n",
      "pair1 M2: 0.7066666666666667\n",
      "pair2 M1: 0.7508305647840532\n",
      "pair2 M2: 0.7508305647840532\n"
     ]
    }
   ],
   "source": [
    "print(\"pair1 M1: {}\".format(precision(pt_fr_train[:300], np.matmul(X_train[:300], M1))))\n",
    "print(\"pair1 M2: {}\".format(precision(pt_fr_train[:300], np.matmul(X_train[:300], M2))))\n",
    "print(\"pair2 M1: {}\".format(precision(pt_fr_train[300:601], np.matmul(X_train[300:601], M1))))\n",
    "print(\"pair2 M2: {}\".format(precision(pt_fr_train[300:601], np.matmul(X_train[300:601], M2))))"
   ]
  },
  {
   "cell_type": "markdown",
   "metadata": {},
   "source": [
    "Подсчитали точность перевода языковых пар для каждой из матриц:"
   ]
  },
  {
   "cell_type": "code",
   "execution_count": 11,
   "metadata": {},
   "outputs": [
    {
     "data": {
      "text/plain": [
       "0.0"
      ]
     },
     "execution_count": 11,
     "metadata": {},
     "output_type": "execute_result"
    }
   ],
   "source": [
    "M1_M2 = np.linalg.norm((M1-M2),ord='fro')\n",
    "M1_M2"
   ]
  },
  {
   "cell_type": "code",
   "execution_count": 12,
   "metadata": {},
   "outputs": [
    {
     "data": {
      "text/plain": [
       "0.0"
      ]
     },
     "execution_count": 12,
     "metadata": {},
     "output_type": "execute_result"
    }
   ],
   "source": [
    "M1_M2/np.linalg.norm(M1,ord='fro')"
   ]
  },
  {
   "cell_type": "markdown",
   "metadata": {},
   "source": [
    "Норма Фробениуса для разности матриц равна нулю."
   ]
  },
  {
   "cell_type": "markdown",
   "metadata": {},
   "source": [
    "Теперь проверим каждую из матриц $M_1$ и $M_2$ на ортогональность. Для этого вычислим произведения $M_1 \\cdot M_1 ^ T$ и $M_2 \\cdot M_2 ^ T$. "
   ]
  },
  {
   "cell_type": "code",
   "execution_count": 13,
   "metadata": {},
   "outputs": [
    {
     "name": "stdout",
     "output_type": "stream",
     "text": [
      "[[ 1.0000001e+00 -2.9802322e-08  3.7252903e-09 ... -1.8859282e-08\n",
      "  -2.9802322e-08 -1.6763806e-08]\n",
      " [-2.9802322e-08  9.9999976e-01 -2.9336661e-08 ...  9.3132257e-09\n",
      "  -3.8184226e-08 -3.3527613e-08]\n",
      " [ 3.7252903e-09 -2.9336661e-08  9.9999976e-01 ...  1.8626451e-09\n",
      "  -9.3132257e-09 -3.1664968e-08]\n",
      " ...\n",
      " [-1.8859282e-08  9.3132257e-09  1.8626451e-09 ...  1.0000000e+00\n",
      "  -2.2351742e-08 -6.5192580e-09]\n",
      " [-2.9802322e-08 -3.8184226e-08 -9.3132257e-09 ... -2.2351742e-08\n",
      "   1.0000000e+00  9.3132257e-09]\n",
      " [-1.6763806e-08 -3.3527613e-08 -3.1664968e-08 ... -6.5192580e-09\n",
      "   9.3132257e-09  1.0000000e+00]]\n"
     ]
    }
   ],
   "source": [
    "print(np.matmul(M1,M1.T))"
   ]
  },
  {
   "cell_type": "code",
   "execution_count": 14,
   "metadata": {},
   "outputs": [
    {
     "name": "stdout",
     "output_type": "stream",
     "text": [
      "[[ 1.0000001e+00 -2.9802322e-08  3.7252903e-09 ... -1.8859282e-08\n",
      "  -2.9802322e-08 -1.6763806e-08]\n",
      " [-2.9802322e-08  9.9999976e-01 -2.9336661e-08 ...  9.3132257e-09\n",
      "  -3.8184226e-08 -3.3527613e-08]\n",
      " [ 3.7252903e-09 -2.9336661e-08  9.9999976e-01 ...  1.8626451e-09\n",
      "  -9.3132257e-09 -3.1664968e-08]\n",
      " ...\n",
      " [-1.8859282e-08  9.3132257e-09  1.8626451e-09 ...  1.0000000e+00\n",
      "  -2.2351742e-08 -6.5192580e-09]\n",
      " [-2.9802322e-08 -3.8184226e-08 -9.3132257e-09 ... -2.2351742e-08\n",
      "   1.0000000e+00  9.3132257e-09]\n",
      " [-1.6763806e-08 -3.3527613e-08 -3.1664968e-08 ... -6.5192580e-09\n",
      "   9.3132257e-09  1.0000000e+00]]\n"
     ]
    }
   ],
   "source": [
    "print(np.matmul(M2,M2.T))"
   ]
  },
  {
   "cell_type": "markdown",
   "metadata": {},
   "source": [
    "Видим, что все элементы, кроме диагональных, очень близки к нулю, а диагональные элементы очень близки к единице. \n",
    "\n",
    "Значит, можно считать, что $M_1 \\cdot M_1 ^ T = E$ и $M_2 \\cdot M_2 ^ T = E$ и каждая из матриц $M_1, M_2$ ортогональна."
   ]
  },
  {
   "cell_type": "markdown",
   "metadata": {},
   "source": [
    "### Перевод с французского на португальский:"
   ]
  },
  {
   "cell_type": "markdown",
   "metadata": {},
   "source": [
    "Теперь проделаем то же самое для пары (французский, португальский)"
   ]
  },
  {
   "cell_type": "code",
   "execution_count": 15,
   "metadata": {},
   "outputs": [],
   "source": [
    "def load_word_pairs(filename):\n",
    "    fr_pt_pairs = []\n",
    "    fr_vectors = []\n",
    "    pt_vectors = []\n",
    "    \n",
    "    with open(filename, \"r\") as inpf:\n",
    "        for line in inpf:\n",
    "            fr, pt = line.rstrip().split(\"\\t\")\n",
    "            if fr not in fr_emb or pt not in pt_emb:\n",
    "                continue\n",
    "            fr_pt_pairs.append((fr, pt))\n",
    "            fr_vectors.append(fr_emb[fr])\n",
    "            pt_vectors.append(pt_emb[pt])\n",
    "            \n",
    "    return fr_pt_pairs, np.array(fr_vectors), np.array(pt_vectors)"
   ]
  },
  {
   "cell_type": "code",
   "execution_count": 16,
   "metadata": {},
   "outputs": [],
   "source": [
    "fr_pt_train, X_train, Y_train = load_word_pairs(\"fr-pt.0-5000.txt\")"
   ]
  },
  {
   "cell_type": "code",
   "execution_count": 17,
   "metadata": {},
   "outputs": [],
   "source": [
    "fr_pt_test, X_test, Y_test = load_word_pairs(\"fr-pt.5000-6500.txt\")"
   ]
  },
  {
   "cell_type": "code",
   "execution_count": 18,
   "metadata": {},
   "outputs": [],
   "source": [
    "M1 = learn_transform(X_train[:300], Y_train[:300])"
   ]
  },
  {
   "cell_type": "code",
   "execution_count": 19,
   "metadata": {},
   "outputs": [],
   "source": [
    "M2 = learn_transform(X_train[300:601], Y_train[300:601])"
   ]
  },
  {
   "cell_type": "code",
   "execution_count": 20,
   "metadata": {},
   "outputs": [],
   "source": [
    "def precision(pairs, mapped_vectors, topn=1):\n",
    "    assert len(pairs) == len(mapped_vectors)\n",
    "    num_matches = 0\n",
    "    for i, (_, ru) in enumerate(pairs):\n",
    "        # YOUR CODE HERE   \n",
    "        mapped_vector = mapped_vectors[i]\n",
    "        if ru in [x for (x,_) in pt_emb.most_similar([mapped_vector],topn=topn)]:\n",
    "            num_matches += 1\n",
    "    precision_val = num_matches / len(pairs)\n",
    "    return precision_val"
   ]
  },
  {
   "cell_type": "code",
   "execution_count": 21,
   "metadata": {},
   "outputs": [
    {
     "name": "stdout",
     "output_type": "stream",
     "text": [
      "pair1 M1: 0.7566666666666667\n",
      "pair1 M2: 0.7566666666666667\n",
      "pair2 M1: 0.8106312292358804\n",
      "pair2 M2: 0.8106312292358804\n"
     ]
    }
   ],
   "source": [
    "print(\"pair1 M1: {}\".format(precision(fr_pt_train[:300], np.matmul(X_train[:300], M1))))\n",
    "print(\"pair1 M2: {}\".format(precision(fr_pt_train[:300], np.matmul(X_train[:300], M2))))\n",
    "print(\"pair2 M1: {}\".format(precision(fr_pt_train[300:601], np.matmul(X_train[300:601], M1))))\n",
    "print(\"pair2 M2: {}\".format(precision(fr_pt_train[300:601], np.matmul(X_train[300:601], M2))))"
   ]
  },
  {
   "cell_type": "markdown",
   "metadata": {},
   "source": [
    "Видим, что точность перевода получилась выше, чем при переводе с французского на португальский."
   ]
  },
  {
   "cell_type": "code",
   "execution_count": 22,
   "metadata": {},
   "outputs": [
    {
     "data": {
      "text/plain": [
       "0.0"
      ]
     },
     "execution_count": 22,
     "metadata": {},
     "output_type": "execute_result"
    }
   ],
   "source": [
    "M1_M2 = np.linalg.norm((M1-M2),ord='fro')\n",
    "M1_M2"
   ]
  },
  {
   "cell_type": "code",
   "execution_count": 23,
   "metadata": {},
   "outputs": [
    {
     "data": {
      "text/plain": [
       "0.0"
      ]
     },
     "execution_count": 23,
     "metadata": {},
     "output_type": "execute_result"
    }
   ],
   "source": [
    "M1_M2/np.linalg.norm(M1,ord='fro')"
   ]
  },
  {
   "cell_type": "markdown",
   "metadata": {},
   "source": [
    "Норма Фробениуса по-прежнему равна нулю."
   ]
  },
  {
   "cell_type": "code",
   "execution_count": 24,
   "metadata": {},
   "outputs": [
    {
     "name": "stdout",
     "output_type": "stream",
     "text": [
      "[[ 9.9999988e-01 -1.3038516e-08 -5.5879354e-09 ...  5.5879354e-09\n",
      "  -7.4505806e-09 -5.1222742e-09]\n",
      " [-1.3038516e-08  1.0000001e+00  3.7252903e-08 ...  1.1175871e-08\n",
      "  -3.7252903e-08  5.5879354e-09]\n",
      " [-5.5879354e-09  3.7252903e-08  1.0000000e+00 ...  4.6566129e-10\n",
      "   1.6763806e-08 -1.1175871e-08]\n",
      " ...\n",
      " [ 5.5879354e-09  1.1175871e-08  4.6566129e-10 ...  1.0000000e+00\n",
      "   6.5192580e-09 -2.7939677e-08]\n",
      " [-7.4505806e-09 -3.7252903e-08  1.6763806e-08 ...  6.5192580e-09\n",
      "   1.0000000e+00 -2.2351742e-08]\n",
      " [-5.1222742e-09  5.5879354e-09 -1.1175871e-08 ... -2.7939677e-08\n",
      "  -2.2351742e-08  1.0000000e+00]]\n"
     ]
    }
   ],
   "source": [
    "print(np.matmul(M1,M1.T))"
   ]
  },
  {
   "cell_type": "code",
   "execution_count": 25,
   "metadata": {},
   "outputs": [
    {
     "name": "stdout",
     "output_type": "stream",
     "text": [
      "[[ 9.9999988e-01 -1.3038516e-08 -5.5879354e-09 ...  5.5879354e-09\n",
      "  -7.4505806e-09 -5.1222742e-09]\n",
      " [-1.3038516e-08  1.0000001e+00  3.7252903e-08 ...  1.1175871e-08\n",
      "  -3.7252903e-08  5.5879354e-09]\n",
      " [-5.5879354e-09  3.7252903e-08  1.0000000e+00 ...  4.6566129e-10\n",
      "   1.6763806e-08 -1.1175871e-08]\n",
      " ...\n",
      " [ 5.5879354e-09  1.1175871e-08  4.6566129e-10 ...  1.0000000e+00\n",
      "   6.5192580e-09 -2.7939677e-08]\n",
      " [-7.4505806e-09 -3.7252903e-08  1.6763806e-08 ...  6.5192580e-09\n",
      "   1.0000000e+00 -2.2351742e-08]\n",
      " [-5.1222742e-09  5.5879354e-09 -1.1175871e-08 ... -2.7939677e-08\n",
      "  -2.2351742e-08  1.0000000e+00]]\n"
     ]
    }
   ],
   "source": [
    "print(np.matmul(M2,M2.T))"
   ]
  },
  {
   "cell_type": "markdown",
   "metadata": {},
   "source": [
    "Кроме того, обе матрицы ортогональны."
   ]
  },
  {
   "cell_type": "code",
   "execution_count": null,
   "metadata": {},
   "outputs": [],
   "source": []
  }
 ],
 "metadata": {
  "kernelspec": {
   "display_name": "Python 3",
   "language": "python",
   "name": "python3"
  },
  "language_info": {
   "codemirror_mode": {
    "name": "ipython",
    "version": 3
   },
   "file_extension": ".py",
   "mimetype": "text/x-python",
   "name": "python",
   "nbconvert_exporter": "python",
   "pygments_lexer": "ipython3",
   "version": "3.7.1"
  }
 },
 "nbformat": 4,
 "nbformat_minor": 2
}
