{
 "cells": [
  {
   "cell_type": "markdown",
   "metadata": {},
   "source": [
    "# Древнегреческий язык"
   ]
  },
  {
   "cell_type": "markdown",
   "metadata": {},
   "source": [
    "**Древнегре́ческий язы́к** (самоназв. **др.-греч.** ἡ Ἑλληνικὴ γλῶσσα (γλῶττα)) — язык **индоевропейской семьи**, предок **греческого языка**, распространённый на территории **греческой ойкумены** в эпоху с начала **II тысячелетия до н. э.** до IV века нашей эры. В наши дни используется в церквях и монастырях страны.\n",
    "\n",
    "Αα — Альфа, Ββ — Бета, Γγ — Гамма, Δδ — Дельта, Εε — Эпсилон, Ζζ — Дзета, Ηη — Эта, Θθ — Тета, Ιι — Йота, Κκ — Каппа, Λλ — Лямбда, Μμ — Мю, Νν — Ню, Ξξ — Кси, Οο — Омикрон, Ππ — Пи, Ρρ — Ро, Σσς — Сигма, Ττ — Тау, Υυ — Ипсилон, Φφ — Фи, Χχ — Хи, Ψψ — Пси, Ωω — Омега.\n",
    "\n",
    "Древние греки использовали греческий алфавит, произошедший, как считается, от финикийского письма. В классическом виде греческий алфавит, состоявший из 24 букв, сложился к концу V в. до н. э. В древнейших надписях направление письма шло справа налево, затем в течение некоторого времени использовался способ письма под названием бустрофедон (буквально «поворот быка») — направление письма чередовалось от строки к строке. В IV в. до н. э. окончательно утвердилось современное направление — слева направо. В эллинистическую эпоху в надписях стали применяться надстрочные знаки, обозначавшие три типа ударения и два типа придыхания."
   ]
  },
  {
   "cell_type": "markdown",
   "metadata": {},
   "source": [
    "## Постановка задачи"
   ]
  },
  {
   "cell_type": "markdown",
   "metadata": {},
   "source": [
    "Предлагается реализовать алгоритм Витерби для создания PoS-тэггера.\n",
    "\n",
    "На языке Python/R необходимо разработать PoS-теггер на базе скрытых марковских цепей и алгоритма Витерби."
   ]
  },
  {
   "cell_type": "code",
   "execution_count": 82,
   "metadata": {},
   "outputs": [],
   "source": [
    "import conllu  \n",
    "from io import open\n",
    "import pickle \n",
    "import numpy as np"
   ]
  },
  {
   "cell_type": "code",
   "execution_count": 83,
   "metadata": {},
   "outputs": [],
   "source": [
    "direct = \"./UD_Ancient_Greek/\"\n",
    "train = \"grc_proiel-ud-train.conllu\"\n",
    "test  = \"grc_proiel-ud-test.conllu\""
   ]
  },
  {
   "cell_type": "code",
   "execution_count": 84,
   "metadata": {},
   "outputs": [],
   "source": [
    "data_train = conllu.parse_incr(open(direct+train,'r',encoding = \"utf-8\"))"
   ]
  },
  {
   "cell_type": "code",
   "execution_count": 85,
   "metadata": {},
   "outputs": [],
   "source": [
    "c3 = {} \n",
    "c2 = {} \n",
    "c1 = {} \n",
    "cT = {} \n",
    "for tokenlist in data_train:\n",
    "    sentence = [[\"*\",\"*\"]] + [[\"*\",\"*\"]] + [[tokenlist[i][\"lemma\"], tokenlist[i][\"upostag\"]]\n",
    "        for i in range(len(tokenlist)) ] + [[\"STOP\",\"STOP\"]]\n",
    "\n",
    "    for i in range(0, len(sentence)-2):\n",
    "        c3old = c3.get( (sentence[i][1], sentence[i+1][1], sentence[i+2][1]), 0)\n",
    "        c3.update( { (sentence[i][1], sentence[i+1][1], sentence[i+2][1]): c3old+1 } ) \n",
    "    for i in range(0, len(sentence)-1):\n",
    "        c2old = c2.get( (sentence[i][1], sentence[i+1][1]), 0)\n",
    "        c2.update( { (sentence[i][1], sentence[i+1][1]): c2old+1 } )\n",
    "\n",
    "    for i in range(0, len(sentence)):\n",
    "        c1old = c1.get( (sentence[i][1]), 0)\n",
    "        c1.update( { (sentence[i][1]): c1old+1 } )\n",
    "\n",
    "    for i in range(0, len(sentence)):\n",
    "        cTold = cT.get( (sentence[i][1], sentence[i][0]), 0)\n",
    "        cT.update( { (sentence[i][1], sentence[i][0]): cTold+1 } )"
   ]
  },
  {
   "cell_type": "code",
   "execution_count": 86,
   "metadata": {},
   "outputs": [
    {
     "name": "stdout",
     "output_type": "stream",
     "text": [
      "2015\n",
      "200\n",
      "16\n",
      "9124\n"
     ]
    }
   ],
   "source": [
    "print (len(c3))\n",
    "print (len(c2))\n",
    "print (len(c1))\n",
    "print (len(cT))\n",
    "\n",
    "with open('cs_ancgreek.pkl', 'wb') as f:\n",
    "    pickle.dump([cT, c1, c2, c3], f)"
   ]
  },
  {
   "cell_type": "code",
   "execution_count": 87,
   "metadata": {},
   "outputs": [],
   "source": [
    "with open('cs_ancgreek.pkl', 'rb') as f:\n",
    "    cT, c1, c2, c3 = pickle.load(f)"
   ]
  },
  {
   "cell_type": "code",
   "execution_count": 88,
   "metadata": {},
   "outputs": [],
   "source": [
    "tags = list(c1.keys())\n",
    "tags.remove('*')\n",
    "tags.remove('STOP')\n",
    "k = len(tags)"
   ]
  },
  {
   "cell_type": "code",
   "execution_count": 89,
   "metadata": {},
   "outputs": [
    {
     "name": "stdout",
     "output_type": "stream",
     "text": [
      "['PROPN', 'NOUN', 'DET', 'SCONJ', 'CCONJ', 'VERB', 'ADP', 'ADJ', 'PRON', 'ADV', 'AUX', 'NUM', 'INTJ', 'X']\n"
     ]
    }
   ],
   "source": [
    "def q(s, u, v):\n",
    "    eps = 1e-7\n",
    "    return c3.get((u, v, s), eps) / c2.get((u, v), eps)\n",
    "\n",
    "\n",
    "def e(x, s):\n",
    "    eps = 1e-7\n",
    "    return cT.get((s, x), eps) / c1.get((s), eps)\n",
    "\n",
    "\n",
    "def K(n): \n",
    "    if n == -1 or n == 0:\n",
    "        return ['*']\n",
    "    else:\n",
    "        return tags\n",
    "\n",
    "print(K(10))"
   ]
  },
  {
   "cell_type": "code",
   "execution_count": 90,
   "metadata": {},
   "outputs": [],
   "source": [
    "def viterbi(sent):\n",
    "    Pi = {(0, '*', '*'): 1}\n",
    "    bp = {}\n",
    "    n = len(sent) - 2\n",
    "    y = [\"\"] * (n + 1)\n",
    "\n",
    "    for k in range(1, n + 1):\n",
    "        xk = sent[k]\n",
    "       \n",
    "        for u in K(k-1):\n",
    "            for v in K(k):\n",
    "                w = K(k-2)\n",
    "                v1 = map(lambda wi:\n",
    "                            Pi.get((k-1, wi, u)) *\n",
    "                            q(v, wi, u) *\n",
    "                            e(xk, v), w)\n",
    "                v1 = list(v1)\n",
    "                PiNew = max(v1)\n",
    "                bpNew = w[v1.index(PiNew)]\n",
    "                Pi.update({(k, u, v): PiNew})\n",
    "                bp.update({(k, u, v): bpNew})\n",
    "\n",
    "    v2 = {}\n",
    "    for u in K(n-1):\n",
    "        for v in K(n):\n",
    "            v2.update({(n, u, v): Pi.get((n, u, v)) * q(\"STOP\", u, v)})\n",
    "\n",
    "    v2max = max(list(v2.values()))\n",
    "    for (n, u, v), val in v2.items():\n",
    "        if val == v2max:\n",
    "            (y[n-1], y[n]) = (u,v)\n",
    "\n",
    "    for k in range(n-2, 0, -1):\n",
    "        y[k] = bp.get((k + 2, y[k+1], y[k+2]))\n",
    "\n",
    "    return y[1:]"
   ]
  },
  {
   "cell_type": "code",
   "execution_count": 91,
   "metadata": {},
   "outputs": [],
   "source": [
    "data_test = conllu.parse_incr(open(direct+test,'r',encoding = \"utf-8\"))\n",
    "test_tags = [] \n",
    "predict_tags = [] \n",
    "\n",
    "for tokenlist in data_test:\n",
    "    sentence=[\"*\"] + [tokenlist[i][\"lemma\"] for i in range(len(tokenlist)) ] + [\"STOP\"]\n",
    "    test_tags.append([tokenlist[i][\"upostag\"] for i in range(len(tokenlist)) ])\n",
    "    predict_tags.append(viterbi(sentence))"
   ]
  },
  {
   "cell_type": "code",
   "execution_count": 92,
   "metadata": {},
   "outputs": [
    {
     "name": "stdout",
     "output_type": "stream",
     "text": [
      "Error =  0.04754495375281613\n"
     ]
    }
   ],
   "source": [
    "err = 0.\n",
    "for sent in range(len(test_tags)):\n",
    "    err += np.mean(np.array(test_tags[sent]) != np.array(predict_tags[sent]))\n",
    "print('Error = ', err/len(test_tags))"
   ]
  },
  {
   "cell_type": "code",
   "execution_count": null,
   "metadata": {},
   "outputs": [],
   "source": []
  },
  {
   "cell_type": "code",
   "execution_count": null,
   "metadata": {},
   "outputs": [],
   "source": []
  },
  {
   "cell_type": "code",
   "execution_count": null,
   "metadata": {},
   "outputs": [],
   "source": []
  },
  {
   "cell_type": "code",
   "execution_count": null,
   "metadata": {},
   "outputs": [],
   "source": []
  }
 ],
 "metadata": {
  "kernelspec": {
   "display_name": "Python 3",
   "language": "python",
   "name": "python3"
  },
  "language_info": {
   "codemirror_mode": {
    "name": "ipython",
    "version": 3
   },
   "file_extension": ".py",
   "mimetype": "text/x-python",
   "name": "python",
   "nbconvert_exporter": "python",
   "pygments_lexer": "ipython3",
   "version": "3.7.0"
  }
 },
 "nbformat": 4,
 "nbformat_minor": 2
}
